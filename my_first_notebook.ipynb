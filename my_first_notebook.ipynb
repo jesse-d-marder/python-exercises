{
 "cells": [
  {
   "cell_type": "code",
   "execution_count": 1,
   "id": "38d12c12",
   "metadata": {},
   "outputs": [
    {
     "name": "stdout",
     "output_type": "stream",
     "text": [
      "This is a jupyter notebook\n"
     ]
    }
   ],
   "source": [
    "print(\"This is a jupyter notebook\")"
   ]
  },
  {
   "cell_type": "code",
   "execution_count": 2,
   "id": "5a51e387",
   "metadata": {},
   "outputs": [],
   "source": [
    "greeting = \"this is my greeting\""
   ]
  },
  {
   "cell_type": "code",
   "execution_count": 3,
   "id": "611d2852",
   "metadata": {},
   "outputs": [
    {
     "name": "stdout",
     "output_type": "stream",
     "text": [
      "this is my greeting\n"
     ]
    }
   ],
   "source": [
    "print(greeting)"
   ]
  },
  {
   "cell_type": "code",
   "execution_count": 2,
   "id": "b7f3b2a3",
   "metadata": {},
   "outputs": [
    {
     "name": "stdout",
     "output_type": "stream",
     "text": [
      "0\n",
      "1\n",
      "2\n",
      "3\n",
      "4\n",
      "5\n",
      "6\n",
      "7\n",
      "8\n",
      "9\n"
     ]
    }
   ],
   "source": [
    "for i in range(0,10): # added a few zeros to this so that output would continue\n",
    "    print(i)\n"
   ]
  },
  {
   "cell_type": "code",
   "execution_count": 7,
   "id": "1fb4c47c",
   "metadata": {},
   "outputs": [],
   "source": [
    "# That last cell was to practice keyboard interrupts - press 'i' a couple times"
   ]
  },
  {
   "cell_type": "code",
   "execution_count": 8,
   "id": "2650c5b8",
   "metadata": {},
   "outputs": [],
   "source": [
    "# Pressing shift return runs code in current cell "
   ]
  },
  {
   "cell_type": "code",
   "execution_count": 9,
   "id": "d9c149bc",
   "metadata": {},
   "outputs": [],
   "source": [
    "# Testing out commenting , should be able to do command / "
   ]
  },
  {
   "cell_type": "code",
   "execution_count": 15,
   "id": "1b791a06",
   "metadata": {},
   "outputs": [
    {
     "name": "stdout",
     "output_type": "stream",
     "text": [
      "indent and dedent shortcuts work!\n",
      "indent and dedent shortcuts work!\n",
      "indent and dedent shortcuts work!\n",
      "indent and dedent shortcuts work!\n",
      "indent and dedent shortcuts work!\n",
      "indent and dedent shortcuts work!\n",
      "indent and dedent shortcuts work!\n",
      "indent and dedent shortcuts work!\n",
      "indent and dedent shortcuts work!\n",
      "indent and dedent shortcuts work!\n"
     ]
    }
   ],
   "source": [
    "# This next one is to test out indentation with command ] and dedent with []\n",
    "for i in range (0,10):\n",
    "    print(\"indent and dedent shortcuts work!\")"
   ]
  },
  {
   "cell_type": "code",
   "execution_count": 11,
   "id": "89e828be",
   "metadata": {},
   "outputs": [],
   "source": [
    "# performing save and checkpoint with command s"
   ]
  },
  {
   "cell_type": "markdown",
   "id": "d9186414",
   "metadata": {},
   "source": [
    "###### Trying out the emacs style line kill whatever that is Control k\n",
    "# It didn't do anything \n",
    "# also changed the heading size\n",
    "\n",
    "\n",
    "\n",
    "\n",
    "\n",
    "# Tried the run cell and insert below - option and return "
   ]
  },
  {
   "cell_type": "code",
   "execution_count": null,
   "id": "8f45b864",
   "metadata": {},
   "outputs": [],
   "source": [
    "# Changing from raw to code using the keyboard shortcuts Y and R when in command mode\n",
    "print(\"this is code\")"
   ]
  },
  {
   "cell_type": "code",
   "execution_count": 19,
   "id": "864655e0",
   "metadata": {},
   "outputs": [
    {
     "name": "stdout",
     "output_type": "stream",
     "text": [
      "this is code\n",
      "this code with be merged with the cell above via shift m\n"
     ]
    }
   ],
   "source": [
    "# going to practice merging this cell with one above\n",
    "print(\"this code with be merged with the cell above via shift m\")"
   ]
  },
  {
   "cell_type": "code",
   "execution_count": 22,
   "id": "e9da48eb",
   "metadata": {},
   "outputs": [
    {
     "name": "stdout",
     "output_type": "stream",
     "text": [
      "Cells can be split with control shift - and it will split where the cursor is\n",
      "Split\n"
     ]
    }
   ],
   "source": [
    "print(\"Cells can be split with control shift - and it will split where the cursor is\")\n",
    "\n",
    "print(\"Split\")"
   ]
  },
  {
   "cell_type": "code",
   "execution_count": 21,
   "id": "17df84ad",
   "metadata": {},
   "outputs": [
    {
     "name": "stdout",
     "output_type": "stream",
     "text": [
      "practice\n"
     ]
    }
   ],
   "source": [
    "print(\"practice\")"
   ]
  },
  {
   "cell_type": "code",
   "execution_count": 1,
   "id": "496bd80c",
   "metadata": {},
   "outputs": [],
   "source": [
    "numbers = [1,2,3]"
   ]
  },
  {
   "cell_type": "code",
   "execution_count": 5,
   "id": "05e6f79b",
   "metadata": {},
   "outputs": [
    {
     "data": {
      "text/plain": [
       "[1, 2, 3]"
      ]
     },
     "execution_count": 5,
     "metadata": {},
     "output_type": "execute_result"
    }
   ],
   "source": [
    "numbers"
   ]
  },
  {
   "cell_type": "code",
   "execution_count": 6,
   "id": "17441d61",
   "metadata": {},
   "outputs": [],
   "source": [
    "numbers.append(4)"
   ]
  },
  {
   "cell_type": "code",
   "execution_count": 7,
   "id": "e213304e",
   "metadata": {},
   "outputs": [
    {
     "data": {
      "text/plain": [
       "[1, 2, 3, 4]"
      ]
     },
     "execution_count": 7,
     "metadata": {},
     "output_type": "execute_result"
    }
   ],
   "source": [
    "numbers"
   ]
  },
  {
   "cell_type": "code",
   "execution_count": 8,
   "id": "e3ae3aa0",
   "metadata": {},
   "outputs": [
    {
     "data": {
      "text/plain": [
       "4"
      ]
     },
     "execution_count": 8,
     "metadata": {},
     "output_type": "execute_result"
    }
   ],
   "source": [
    "numbers.pop()"
   ]
  },
  {
   "cell_type": "code",
   "execution_count": 9,
   "id": "837b3e54",
   "metadata": {},
   "outputs": [
    {
     "data": {
      "text/plain": [
       "[1, 2, 3]"
      ]
     },
     "execution_count": 9,
     "metadata": {},
     "output_type": "execute_result"
    }
   ],
   "source": [
    "numbers"
   ]
  },
  {
   "cell_type": "code",
   "execution_count": 10,
   "id": "ab8edb76",
   "metadata": {},
   "outputs": [
    {
     "data": {
      "text/plain": [
       "3"
      ]
     },
     "execution_count": 10,
     "metadata": {},
     "output_type": "execute_result"
    }
   ],
   "source": [
    "len(numbers)"
   ]
  },
  {
   "cell_type": "code",
   "execution_count": 11,
   "id": "9170d3db",
   "metadata": {},
   "outputs": [
    {
     "data": {
      "text/plain": [
       "[0, 1, 2, 3, 4, 5, 6, 7, 8, 9]"
      ]
     },
     "execution_count": 11,
     "metadata": {},
     "output_type": "execute_result"
    }
   ],
   "source": [
    "list(range(10))"
   ]
  },
  {
   "cell_type": "code",
   "execution_count": 9,
   "id": "dae07e35",
   "metadata": {},
   "outputs": [
    {
     "data": {
      "text/plain": [
       "['a', 'b', 'c', 'd', 'e']"
      ]
     },
     "execution_count": 9,
     "metadata": {},
     "output_type": "execute_result"
    }
   ],
   "source": [
    "list('abcde')"
   ]
  },
  {
   "cell_type": "code",
   "execution_count": 12,
   "id": "32d9d58f",
   "metadata": {},
   "outputs": [
    {
     "data": {
      "text/plain": [
       "['1', '2', '3']"
      ]
     },
     "execution_count": 12,
     "metadata": {},
     "output_type": "execute_result"
    }
   ],
   "source": [
    "list(map(str,[1,2,3]))"
   ]
  },
  {
   "cell_type": "code",
   "execution_count": 14,
   "id": "5f2491cf",
   "metadata": {},
   "outputs": [
    {
     "data": {
      "text/plain": [
       "'hello'"
      ]
     },
     "execution_count": 14,
     "metadata": {},
     "output_type": "execute_result"
    }
   ],
   "source": [
    "dict(first='hello', second='world')['first']"
   ]
  },
  {
   "cell_type": "code",
   "execution_count": 15,
   "id": "00a407e7",
   "metadata": {},
   "outputs": [
    {
     "data": {
      "text/plain": [
       "float"
      ]
     },
     "execution_count": 15,
     "metadata": {},
     "output_type": "execute_result"
    }
   ],
   "source": [
    "type(99.9)"
   ]
  },
  {
   "cell_type": "code",
   "execution_count": 16,
   "id": "8f73d06d",
   "metadata": {},
   "outputs": [
    {
     "data": {
      "text/plain": [
       "str"
      ]
     },
     "execution_count": 16,
     "metadata": {},
     "output_type": "execute_result"
    }
   ],
   "source": [
    "type(\"False\")"
   ]
  },
  {
   "cell_type": "code",
   "execution_count": 17,
   "id": "6690955b",
   "metadata": {},
   "outputs": [
    {
     "data": {
      "text/plain": [
       "bool"
      ]
     },
     "execution_count": 17,
     "metadata": {},
     "output_type": "execute_result"
    }
   ],
   "source": [
    "type(False)"
   ]
  },
  {
   "cell_type": "code",
   "execution_count": 19,
   "id": "64796da8",
   "metadata": {},
   "outputs": [
    {
     "data": {
      "text/plain": [
       "str"
      ]
     },
     "execution_count": 19,
     "metadata": {},
     "output_type": "execute_result"
    }
   ],
   "source": [
    "type ('0')"
   ]
  },
  {
   "cell_type": "code",
   "execution_count": 20,
   "id": "ff2a5dc6",
   "metadata": {},
   "outputs": [
    {
     "data": {
      "text/plain": [
       "int"
      ]
     },
     "execution_count": 20,
     "metadata": {},
     "output_type": "execute_result"
    }
   ],
   "source": [
    "type(0)"
   ]
  },
  {
   "cell_type": "code",
   "execution_count": 21,
   "id": "81f10d0c",
   "metadata": {},
   "outputs": [
    {
     "data": {
      "text/plain": [
       "bool"
      ]
     },
     "execution_count": 21,
     "metadata": {},
     "output_type": "execute_result"
    }
   ],
   "source": [
    "type(True)"
   ]
  },
  {
   "cell_type": "code",
   "execution_count": null,
   "id": "024cb5ea",
   "metadata": {},
   "outputs": [],
   "source": [
    "type('True')"
   ]
  }
 ],
 "metadata": {
  "kernelspec": {
   "display_name": "Python 3 (ipykernel)",
   "language": "python",
   "name": "python3"
  },
  "language_info": {
   "codemirror_mode": {
    "name": "ipython",
    "version": 3
   },
   "file_extension": ".py",
   "mimetype": "text/x-python",
   "name": "python",
   "nbconvert_exporter": "python",
   "pygments_lexer": "ipython3",
   "version": "3.9.7"
  }
 },
 "nbformat": 4,
 "nbformat_minor": 5
}
